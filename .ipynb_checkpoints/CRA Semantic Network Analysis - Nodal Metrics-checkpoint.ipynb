{
 "cells": [
  {
   "cell_type": "code",
   "execution_count": 1,
   "metadata": {
    "collapsed": true
   },
   "outputs": [],
   "source": [
    "import pandas as pd\n",
    "import numpy as np"
   ]
  },
  {
   "cell_type": "code",
   "execution_count": 2,
   "metadata": {
    "collapsed": false
   },
   "outputs": [],
   "source": [
    "cra_data_raw = pd.read_csv('/Users/dlurie/Dropbox/Coursework/computational_models/final_project/144_cleaned.csv')"
   ]
  },
  {
   "cell_type": "code",
   "execution_count": 3,
   "metadata": {
    "collapsed": true
   },
   "outputs": [],
   "source": [
    "# Specify items to exclude based on specific experimental concerns.\n",
    "exclude = [0,19]"
   ]
  },
  {
   "cell_type": "code",
   "execution_count": 4,
   "metadata": {
    "collapsed": false
   },
   "outputs": [],
   "source": [
    "cra_data_keep = cra_data_raw.drop(cra_data_raw.index[exclude])"
   ]
  },
  {
   "cell_type": "code",
   "execution_count": 5,
   "metadata": {
    "collapsed": false
   },
   "outputs": [],
   "source": [
    "cra_data_keep = cra_data_keep.dropna(axis=0)"
   ]
  },
  {
   "cell_type": "code",
   "execution_count": 6,
   "metadata": {
    "collapsed": false
   },
   "outputs": [],
   "source": [
    "cra_data_keep['in_lexicon'] = 'NaN'"
   ]
  },
  {
   "cell_type": "code",
   "execution_count": 7,
   "metadata": {
    "collapsed": true
   },
   "outputs": [],
   "source": [
    "sn_data = pd.read_csv('/Users/dlurie/Dropbox/Coursework/computational_models/final_project/nelson_fa_norms_nx_node_metrics.csv')"
   ]
  },
  {
   "cell_type": "code",
   "execution_count": 8,
   "metadata": {
    "collapsed": false
   },
   "outputs": [],
   "source": [
    "lexicon = pd.DataFrame(list(sn_data.Label.values), columns=['Label'])"
   ]
  },
  {
   "cell_type": "code",
   "execution_count": 9,
   "metadata": {
    "collapsed": false
   },
   "outputs": [],
   "source": [
    "lexicon['dtype'] = [type(x) for x in lexicon.Label]"
   ]
  },
  {
   "cell_type": "code",
   "execution_count": 10,
   "metadata": {
    "collapsed": false
   },
   "outputs": [
    {
     "data": {
      "text/html": [
       "<div style=\"max-height:1000px;max-width:1500px;overflow:auto;\">\n",
       "<table border=\"1\" class=\"dataframe\">\n",
       "  <thead>\n",
       "    <tr style=\"text-align: right;\">\n",
       "      <th></th>\n",
       "      <th>Label</th>\n",
       "      <th>dtype</th>\n",
       "    </tr>\n",
       "  </thead>\n",
       "  <tbody>\n",
       "    <tr>\n",
       "      <th>5521</th>\n",
       "      <td> NaN</td>\n",
       "      <td> &lt;type 'float'&gt;</td>\n",
       "    </tr>\n",
       "  </tbody>\n",
       "</table>\n",
       "</div>"
      ],
      "text/plain": [
       "     Label           dtype\n",
       "5521   NaN  <type 'float'>"
      ]
     },
     "execution_count": 10,
     "metadata": {},
     "output_type": "execute_result"
    }
   ],
   "source": [
    "lexicon[lexicon.dtype == float]"
   ]
  },
  {
   "cell_type": "code",
   "execution_count": 11,
   "metadata": {
    "collapsed": false
   },
   "outputs": [],
   "source": [
    "lexicon = lexicon.drop(lexicon.index[[5521]])"
   ]
  },
  {
   "cell_type": "code",
   "execution_count": 12,
   "metadata": {
    "collapsed": false
   },
   "outputs": [],
   "source": [
    "lexicon_list = [x.lower() for x in lexicon.Label.values]"
   ]
  },
  {
   "cell_type": "code",
   "execution_count": 13,
   "metadata": {
    "collapsed": false
   },
   "outputs": [],
   "source": [
    "for i in cra_data_keep.index:\n",
    "    cra_data_keep.loc[i, 'in_lexicon'] = all([x in lexicon_list for x in cra_data_keep.loc[i][0:4].values])"
   ]
  },
  {
   "cell_type": "code",
   "execution_count": 14,
   "metadata": {
    "collapsed": false
   },
   "outputs": [
    {
     "data": {
      "text/plain": [
       "array([False, True], dtype=object)"
      ]
     },
     "execution_count": 14,
     "metadata": {},
     "output_type": "execute_result"
    }
   ],
   "source": [
    "np.unique(cra_data_keep.in_lexicon)"
   ]
  },
  {
   "cell_type": "code",
   "execution_count": 15,
   "metadata": {
    "collapsed": false
   },
   "outputs": [],
   "source": [
    "cra_data = cra_data_keep[cra_data_keep['in_lexicon'] == True]"
   ]
  },
  {
   "cell_type": "code",
   "execution_count": 16,
   "metadata": {
    "collapsed": false
   },
   "outputs": [
    {
     "data": {
      "text/plain": [
       "118"
      ]
     },
     "execution_count": 16,
     "metadata": {},
     "output_type": "execute_result"
    }
   ],
   "source": [
    "len(cra_data)"
   ]
  },
  {
   "cell_type": "code",
   "execution_count": 17,
   "metadata": {
    "collapsed": true
   },
   "outputs": [],
   "source": [
    "metrics = ['page_rank', 'closeness', 'betweenness', 'in_strength', 'out_strength', 'in_dc', 'out_dc', 'degree', 'strength']"
   ]
  },
  {
   "cell_type": "code",
   "execution_count": 18,
   "metadata": {
    "collapsed": true
   },
   "outputs": [],
   "source": [
    "new_columns = []\n",
    "for col in ['cue1', 'cue2', 'cue3', 'solution']:\n",
    "    for metric in metrics:\n",
    "        col_name = '_'.join([col, metric])\n",
    "        new_columns.append(col_name)"
   ]
  },
  {
   "cell_type": "code",
   "execution_count": 21,
   "metadata": {
    "collapsed": false,
    "scrolled": false
   },
   "outputs": [],
   "source": [
    "for i in new_columns:\n",
    "    cra_data.loc[:,i] = 'NaN'"
   ]
  },
  {
   "cell_type": "code",
   "execution_count": 22,
   "metadata": {
    "collapsed": false,
    "scrolled": false
   },
   "outputs": [],
   "source": [
    "for i in cra_data.index:\n",
    "    for col in ['cue1', 'cue2', 'cue3', 'solution']:\n",
    "        word = cra_data.loc[i][col]\n",
    "        word_data = sn_data[sn_data['Label'] == word.upper()]\n",
    "        cra_data.loc[i, '_'.join([col, 'page_rank'])] = word_data['page_rank'].item()\n",
    "        cra_data.loc[i, '_'.join([col, 'closeness'])] = word_data['closeness_centrality'].item()\n",
    "        cra_data.loc[i, '_'.join([col, 'betweenness'])] = word_data['betweenness_centrality'].item()\n",
    "        cra_data.loc[i, '_'.join([col, 'in_strength'])] = word_data['in_strength'].item()\n",
    "        cra_data.loc[i, '_'.join([col, 'out_strength'])] = word_data['out_strength'].item()\n",
    "        cra_data.loc[i, '_'.join([col, 'in_dc'])] = word_data['in_degree_centrality'].item()\n",
    "        cra_data.loc[i, '_'.join([col, 'out_dc'])] = word_data['out_degree_centrality'].item()\n",
    "        cra_data.loc[i, '_'.join([col, 'degree'])] = word_data['degree'].item()\n",
    "        cra_data.loc[i, '_'.join([col, 'strength'])] = word_data['strength'].item()   "
   ]
  },
  {
   "cell_type": "code",
   "execution_count": 83,
   "metadata": {
    "collapsed": false
   },
   "outputs": [],
   "source": [
    "cra_data.to_csv('/Users/dlurie/Dropbox/Coursework/computational_models/final_project/cra_data_with_node_metrics.csv', index=False)"
   ]
  },
  {
   "cell_type": "code",
   "execution_count": 84,
   "metadata": {
    "collapsed": true
   },
   "outputs": [],
   "source": [
    "nodal_data = pd.read_csv('/Users/dlurie/Dropbox/Coursework/computational_models/final_project/cra_data_with_node_metrics.csv')"
   ]
  },
  {
   "cell_type": "code",
   "execution_count": 77,
   "metadata": {
    "collapsed": false,
    "scrolled": false
   },
   "outputs": [],
   "source": [
    "data_cols = ['2sec_pct_solving','7sec_pct_solving', '7sec_mean_time','15sec_pct_solving', '15sec_mean_time',\n",
    "             '30sec_pct_solving', '30sec_mean_time','2sec_pct_solving','7sec_pct_solving', '7sec_mean_time', \n",
    "             '15sec_pct_solving', '15sec_mean_time','cue1_page_rank', 'cue1_closeness', 'cue1_betweenness',\n",
    "             'cue1_in_strength', 'cue1_out_strength','cue1_in_dc', 'cue1_out_dc', 'cue1_degree', \n",
    "             'cue1_strength','cue2_page_rank', 'cue2_closeness','cue2_betweenness', 'cue2_in_strength',\n",
    "             'cue2_out_strength','cue2_in_dc', 'cue2_out_dc',\n",
    "             'cue2_degree', 'cue2_strength', 'cue3_page_rank', 'cue3_closeness','cue3_betweenness',\n",
    "             'cue3_in_strength', 'cue3_out_strength', 'cue3_in_dc', 'cue3_out_dc', 'cue3_degree',\n",
    "             'cue3_strength', 'solution_page_rank', 'solution_closeness','solution_betweenness', \n",
    "             'solution_in_strength','solution_out_strength', 'solution_in_dc', 'solution_out_dc',\n",
    "             'solution_degree', 'solution_strength']"
   ]
  },
  {
   "cell_type": "code",
   "execution_count": 80,
   "metadata": {
    "collapsed": true
   },
   "outputs": [],
   "source": [
    "from scipy import stats\n",
    "import matplotlib as mpl\n",
    "import matplotlib.pyplot as plt\n",
    "import seaborn as sns\n",
    "%matplotlib inline\n",
    "sns.set_style(\"darkgrid\")"
   ]
  },
  {
   "cell_type": "code",
   "execution_count": null,
   "metadata": {
    "collapsed": false,
    "scrolled": false
   },
   "outputs": [],
   "source": [
    "f, ax = plt.subplots(figsize=(22, 22))\n",
    "cmap = sns.diverging_palette(220, 10, as_cmap=True)\n",
    "sns.corrplot(nodal_data[data_cols], annot=True, sig_stars=True, sig_corr=False,\n",
    "             diag_names=False, cmap=cmap, ax=ax, cbar=False)\n",
    "f.tight_layout()\n",
    "f.savefig('/Users/dlurie/Dropbox/Coursework/computational_models/final_project/corr_mat_full.png')"
   ]
  },
  {
   "cell_type": "markdown",
   "metadata": {},
   "source": [
    "###Calculate Path Lengths"
   ]
  },
  {
   "cell_type": "code",
   "execution_count": 24,
   "metadata": {
    "collapsed": true
   },
   "outputs": [],
   "source": [
    "import networkx as nx"
   ]
  },
  {
   "cell_type": "code",
   "execution_count": 36,
   "metadata": {
    "collapsed": false
   },
   "outputs": [],
   "source": [
    "fa_network = nx.read_graphml('/Users/dlurie/Dropbox/Coursework/computational_models/final_project/nelson_fa_norms_nx.graphml')"
   ]
  },
  {
   "cell_type": "code",
   "execution_count": 38,
   "metadata": {
    "collapsed": false
   },
   "outputs": [],
   "source": [
    "labels = nx.get_node_attributes(fa_network, 'label')"
   ]
  },
  {
   "cell_type": "code",
   "execution_count": 39,
   "metadata": {
    "collapsed": false
   },
   "outputs": [],
   "source": [
    "fa_relabel = nx.relabel_nodes(fa_network, labels)"
   ]
  },
  {
   "cell_type": "code",
   "execution_count": 63,
   "metadata": {
    "collapsed": true
   },
   "outputs": [],
   "source": [
    "path_length_cols = ['cue1_solution_dijkstra_spl', 'cue2_solution_dijkstra_spl', 'cue3_solution_dijkstra_spl',\n",
    "                   'cue1_solution_standard_spl', 'cue2_solution_standard_spl', 'cue3_solution_standard_spl']"
   ]
  },
  {
   "cell_type": "code",
   "execution_count": 64,
   "metadata": {
    "collapsed": false
   },
   "outputs": [],
   "source": [
    "for i in path_length_cols:\n",
    "    cra_data.loc[:,i] = 'NaN'"
   ]
  },
  {
   "cell_type": "code",
   "execution_count": 70,
   "metadata": {
    "collapsed": false
   },
   "outputs": [],
   "source": [
    "for i in cra_data.index:\n",
    "    src = cra_data.loc[i, 'cue1']\n",
    "    trgt = cra_data.loc[i, 'solution']\n",
    "    try:\n",
    "        dijkstra_spl = nx.dijkstra_path_length(fa_relabel, src.upper(), trgt.upper(), weight='weight')\n",
    "        cra_data.loc[i, 'cue1_solution_dijkstra_spl'] = dijkstra_spl\n",
    "    except:\n",
    "        pass\n",
    "    try:\n",
    "        standard_spl = nx.shortest_path_length(fa_relabel, src.upper(), trgt.upper())\n",
    "        cra_data.loc[i, 'cue1_solution_standard_spl'] = standard_spl\n",
    "    except:\n",
    "        pass"
   ]
  },
  {
   "cell_type": "code",
   "execution_count": 72,
   "metadata": {
    "collapsed": true
   },
   "outputs": [],
   "source": [
    "for i in cra_data.index:\n",
    "    src = cra_data.loc[i, 'cue2']\n",
    "    trgt = cra_data.loc[i, 'solution']\n",
    "    try:\n",
    "        dijkstra_spl = nx.dijkstra_path_length(fa_relabel, src.upper(), trgt.upper(), weight='weight')\n",
    "        cra_data.loc[i, 'cue2_solution_dijkstra_spl'] = dijkstra_spl\n",
    "    except:\n",
    "        pass\n",
    "    try:\n",
    "        standard_spl = nx.shortest_path_length(fa_relabel, src.upper(), trgt.upper())\n",
    "        cra_data.loc[i, 'cue2_solution_standard_spl'] = standard_spl\n",
    "    except:\n",
    "        pass"
   ]
  },
  {
   "cell_type": "code",
   "execution_count": 74,
   "metadata": {
    "collapsed": true
   },
   "outputs": [],
   "source": [
    "for i in cra_data.index:\n",
    "    src = cra_data.loc[i, 'cue3']\n",
    "    trgt = cra_data.loc[i, 'solution']\n",
    "    try:\n",
    "        dijkstra_spl = nx.dijkstra_path_length(fa_relabel, src.upper(), trgt.upper(), weight='weight')\n",
    "        cra_data.loc[i, 'cue3_solution_dijkstra_spl'] = dijkstra_spl\n",
    "    except:\n",
    "        pass\n",
    "    try:\n",
    "        standard_spl = nx.shortest_path_length(fa_relabel, src.upper(), trgt.upper())\n",
    "        cra_data.loc[i, 'cue3_solution_standard_spl'] = standard_spl\n",
    "    except:\n",
    "        pass"
   ]
  },
  {
   "cell_type": "code",
   "execution_count": 101,
   "metadata": {
    "collapsed": false
   },
   "outputs": [],
   "source": [
    "nodal_data['cue_page_rank_sum'] = nodal_data['cue1_page_rank'] + nodal_data['cue2_page_rank'] + nodal_data['cue3_page_rank']\n",
    "nodal_data['cue_page_rank_mean'] = (nodal_data['cue1_page_rank'] + nodal_data['cue2_page_rank'] + nodal_data['cue3_page_rank']) / 3\n",
    "nodal_data['cue_betweenness_sum'] = nodal_data['cue1_betweenness'] + nodal_data['cue2_betweenness'] + nodal_data['cue3_betweenness']\n",
    "nodal_data['cue_betweenness_mean'] = (nodal_data['cue1_betweenness'] + nodal_data['cue2_betweenness'] + nodal_data['cue3_betweenness']) / 3\n",
    "nodal_data['cue_closeness_sum'] = nodal_data['cue1_closeness'] + nodal_data['cue2_closeness'] + nodal_data['cue3_closeness']\n",
    "nodal_data['cue_closeness_mean'] = (nodal_data['cue1_closeness'] + nodal_data['cue2_closeness'] + nodal_data['cue3_closeness']) / 3"
   ]
  },
  {
   "cell_type": "code",
   "execution_count": 105,
   "metadata": {
    "collapsed": true
   },
   "outputs": [],
   "source": [
    "nodal_data['mean_cue_solution_dijkstra_spl'] = (nodal_data['cue1_solution_dijkstra_spl'] + nodal_data['cue2_solution_dijkstra_spl'] + nodal_data['cue3_solution_dijkstra_spl']) / 3\n",
    "nodal_data['mean_cue_solution_standard_spl'] = (nodal_data['cue1_solution_standard_spl'] + nodal_data['cue2_solution_standard_spl'] + nodal_data['cue3_solution_standard_spl']) / 3"
   ]
  },
  {
   "cell_type": "code",
   "execution_count": 108,
   "metadata": {
    "collapsed": false,
    "scrolled": true
   },
   "outputs": [],
   "source": [
    "test_cols = data_cols + path_length_cols + ['cue_page_rank_sum', 'cue_page_rank_mean', 'cue_closeness_sum', 'cue_closeness_mean', 'cue_betweenness_sum', 'cue_betweenness_mean', 'mean_cue_solution_dijkstra_spl','mean_cue_solution_standard_spl']"
   ]
  },
  {
   "cell_type": "code",
   "execution_count": null,
   "metadata": {
    "collapsed": false,
    "scrolled": false
   },
   "outputs": [],
   "source": [
    "f, ax = plt.subplots(figsize=(24, 24))\n",
    "cmap = sns.diverging_palette(220, 10, as_cmap=True)\n",
    "sns.corrplot(nodal_data[test_cols], annot=True, sig_stars=True, sig_corr=False,\n",
    "             diag_names=False, cmap=cmap, ax=ax, cbar=False)\n",
    "f.tight_layout()\n",
    "f.savefig('/Users/dlurie/Dropbox/Coursework/computational_models/final_project/corr_mat_full.png')"
   ]
  },
  {
   "cell_type": "code",
   "execution_count": 50,
   "metadata": {
    "collapsed": false
   },
   "outputs": [
    {
     "data": {
      "text/plain": [
       "{'cost': 47.6666688911, 'weight': 0.02097902}"
      ]
     },
     "execution_count": 50,
     "metadata": {},
     "output_type": "execute_result"
    }
   ],
   "source": [
    "fa_relabel['EXPLAIN']['EXCUSE']"
   ]
  },
  {
   "cell_type": "code",
   "execution_count": 53,
   "metadata": {
    "collapsed": false
   },
   "outputs": [
    {
     "data": {
      "text/plain": [
       "0.071406152"
      ]
     },
     "execution_count": 53,
     "metadata": {},
     "output_type": "execute_result"
    }
   ],
   "source": [
    "nx.dijkstra_path_length(fa_relabel, 'CREAM', 'LOSER', weight='weight')"
   ]
  },
  {
   "cell_type": "code",
   "execution_count": null,
   "metadata": {
    "collapsed": true
   },
   "outputs": [],
   "source": []
  }
 ],
 "metadata": {
  "kernelspec": {
   "display_name": "Python 2",
   "language": "python",
   "name": "python2"
  },
  "language_info": {
   "codemirror_mode": {
    "name": "ipython",
    "version": 2
   },
   "file_extension": ".py",
   "mimetype": "text/x-python",
   "name": "python",
   "nbconvert_exporter": "python",
   "pygments_lexer": "ipython2",
   "version": "2.7.9"
  }
 },
 "nbformat": 4,
 "nbformat_minor": 0
}
